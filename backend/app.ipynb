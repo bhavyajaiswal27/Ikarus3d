{
 "cells": [
  {
   "cell_type": "code",
   "execution_count": null,
   "id": "0fa64fdd",
   "metadata": {},
   "outputs": [
    {
     "name": "stdout",
     "output_type": "stream",
     "text": [
      "Requirement already satisfied: fastapi in c:\\users\\dell\\desktop\\ai_recom\\.venv\\lib\\site-packages (0.119.0)\n",
      "Requirement already satisfied: uvicorn in c:\\users\\dell\\desktop\\ai_recom\\.venv\\lib\\site-packages (0.37.0)\n",
      "Requirement already satisfied: pandas in c:\\users\\dell\\desktop\\ai_recom\\.venv\\lib\\site-packages (2.3.3)\n",
      "Requirement already satisfied: faiss-cpu in c:\\users\\dell\\desktop\\ai_recom\\.venv\\lib\\site-packages (1.12.0)\n",
      "Requirement already satisfied: sentence-transformers in c:\\users\\dell\\desktop\\ai_recom\\.venv\\lib\\site-packages (5.1.1)\n",
      "Requirement already satisfied: transformers in c:\\users\\dell\\desktop\\ai_recom\\.venv\\lib\\site-packages (4.57.1)\n",
      "Requirement already satisfied: torch in c:\\users\\dell\\desktop\\ai_recom\\.venv\\lib\\site-packages (2.9.0)\n",
      "Requirement already satisfied: starlette<0.49.0,>=0.40.0 in c:\\users\\dell\\desktop\\ai_recom\\.venv\\lib\\site-packages (from fastapi) (0.48.0)\n",
      "Requirement already satisfied: pydantic!=1.8,!=1.8.1,!=2.0.0,!=2.0.1,!=2.1.0,<3.0.0,>=1.7.4 in c:\\users\\dell\\desktop\\ai_recom\\.venv\\lib\\site-packages (from fastapi) (2.12.3)\n",
      "Requirement already satisfied: typing-extensions>=4.8.0 in c:\\users\\dell\\desktop\\ai_recom\\.venv\\lib\\site-packages (from fastapi) (4.15.0)\n",
      "Requirement already satisfied: annotated-types>=0.6.0 in c:\\users\\dell\\desktop\\ai_recom\\.venv\\lib\\site-packages (from pydantic!=1.8,!=1.8.1,!=2.0.0,!=2.0.1,!=2.1.0,<3.0.0,>=1.7.4->fastapi) (0.7.0)\n",
      "Requirement already satisfied: pydantic-core==2.41.4 in c:\\users\\dell\\desktop\\ai_recom\\.venv\\lib\\site-packages (from pydantic!=1.8,!=1.8.1,!=2.0.0,!=2.0.1,!=2.1.0,<3.0.0,>=1.7.4->fastapi) (2.41.4)\n",
      "Requirement already satisfied: typing-inspection>=0.4.2 in c:\\users\\dell\\desktop\\ai_recom\\.venv\\lib\\site-packages (from pydantic!=1.8,!=1.8.1,!=2.0.0,!=2.0.1,!=2.1.0,<3.0.0,>=1.7.4->fastapi) (0.4.2)\n",
      "Requirement already satisfied: anyio<5,>=3.6.2 in c:\\users\\dell\\desktop\\ai_recom\\.venv\\lib\\site-packages (from starlette<0.49.0,>=0.40.0->fastapi) (4.11.0)\n",
      "Requirement already satisfied: idna>=2.8 in c:\\users\\dell\\desktop\\ai_recom\\.venv\\lib\\site-packages (from anyio<5,>=3.6.2->starlette<0.49.0,>=0.40.0->fastapi) (3.11)\n",
      "Requirement already satisfied: sniffio>=1.1 in c:\\users\\dell\\desktop\\ai_recom\\.venv\\lib\\site-packages (from anyio<5,>=3.6.2->starlette<0.49.0,>=0.40.0->fastapi) (1.3.1)\n",
      "Requirement already satisfied: click>=7.0 in c:\\users\\dell\\desktop\\ai_recom\\.venv\\lib\\site-packages (from uvicorn) (8.3.0)\n",
      "Requirement already satisfied: h11>=0.8 in c:\\users\\dell\\desktop\\ai_recom\\.venv\\lib\\site-packages (from uvicorn) (0.16.0)\n",
      "Requirement already satisfied: numpy>=1.23.2 in c:\\users\\dell\\desktop\\ai_recom\\.venv\\lib\\site-packages (from pandas) (2.3.4)\n",
      "Requirement already satisfied: python-dateutil>=2.8.2 in c:\\users\\dell\\desktop\\ai_recom\\.venv\\lib\\site-packages (from pandas) (2.9.0.post0)\n",
      "Requirement already satisfied: pytz>=2020.1 in c:\\users\\dell\\desktop\\ai_recom\\.venv\\lib\\site-packages (from pandas) (2025.2)\n",
      "Requirement already satisfied: tzdata>=2022.7 in c:\\users\\dell\\desktop\\ai_recom\\.venv\\lib\\site-packages (from pandas) (2025.2)\n",
      "Requirement already satisfied: packaging in c:\\users\\dell\\desktop\\ai_recom\\.venv\\lib\\site-packages (from faiss-cpu) (25.0)\n",
      "Requirement already satisfied: tqdm in c:\\users\\dell\\desktop\\ai_recom\\.venv\\lib\\site-packages (from sentence-transformers) (4.67.1)\n",
      "Requirement already satisfied: scikit-learn in c:\\users\\dell\\desktop\\ai_recom\\.venv\\lib\\site-packages (from sentence-transformers) (1.7.2)\n",
      "Requirement already satisfied: scipy in c:\\users\\dell\\desktop\\ai_recom\\.venv\\lib\\site-packages (from sentence-transformers) (1.16.2)\n",
      "Requirement already satisfied: huggingface-hub>=0.20.0 in c:\\users\\dell\\desktop\\ai_recom\\.venv\\lib\\site-packages (from sentence-transformers) (0.35.3)\n",
      "Requirement already satisfied: Pillow in c:\\users\\dell\\desktop\\ai_recom\\.venv\\lib\\site-packages (from sentence-transformers) (12.0.0)\n",
      "Requirement already satisfied: filelock in c:\\users\\dell\\desktop\\ai_recom\\.venv\\lib\\site-packages (from transformers) (3.20.0)\n",
      "Requirement already satisfied: pyyaml>=5.1 in c:\\users\\dell\\desktop\\ai_recom\\.venv\\lib\\site-packages (from transformers) (6.0.3)\n",
      "Requirement already satisfied: regex!=2019.12.17 in c:\\users\\dell\\desktop\\ai_recom\\.venv\\lib\\site-packages (from transformers) (2025.9.18)\n",
      "Requirement already satisfied: requests in c:\\users\\dell\\desktop\\ai_recom\\.venv\\lib\\site-packages (from transformers) (2.32.5)\n",
      "Requirement already satisfied: tokenizers<=0.23.0,>=0.22.0 in c:\\users\\dell\\desktop\\ai_recom\\.venv\\lib\\site-packages (from transformers) (0.22.1)\n",
      "Requirement already satisfied: safetensors>=0.4.3 in c:\\users\\dell\\desktop\\ai_recom\\.venv\\lib\\site-packages (from transformers) (0.6.2)\n",
      "Requirement already satisfied: fsspec>=2023.5.0 in c:\\users\\dell\\desktop\\ai_recom\\.venv\\lib\\site-packages (from huggingface-hub>=0.20.0->sentence-transformers) (2025.9.0)\n",
      "Requirement already satisfied: sympy>=1.13.3 in c:\\users\\dell\\desktop\\ai_recom\\.venv\\lib\\site-packages (from torch) (1.14.0)\n",
      "Requirement already satisfied: networkx>=2.5.1 in c:\\users\\dell\\desktop\\ai_recom\\.venv\\lib\\site-packages (from torch) (3.5)\n",
      "Requirement already satisfied: jinja2 in c:\\users\\dell\\desktop\\ai_recom\\.venv\\lib\\site-packages (from torch) (3.1.6)\n",
      "Requirement already satisfied: colorama in c:\\users\\dell\\desktop\\ai_recom\\.venv\\lib\\site-packages (from click>=7.0->uvicorn) (0.4.6)\n",
      "Requirement already satisfied: six>=1.5 in c:\\users\\dell\\desktop\\ai_recom\\.venv\\lib\\site-packages (from python-dateutil>=2.8.2->pandas) (1.17.0)\n",
      "Requirement already satisfied: mpmath<1.4,>=1.1.0 in c:\\users\\dell\\desktop\\ai_recom\\.venv\\lib\\site-packages (from sympy>=1.13.3->torch) (1.3.0)\n",
      "Requirement already satisfied: MarkupSafe>=2.0 in c:\\users\\dell\\desktop\\ai_recom\\.venv\\lib\\site-packages (from jinja2->torch) (3.0.3)\n",
      "Requirement already satisfied: charset_normalizer<4,>=2 in c:\\users\\dell\\desktop\\ai_recom\\.venv\\lib\\site-packages (from requests->transformers) (3.4.4)\n",
      "Requirement already satisfied: urllib3<3,>=1.21.1 in c:\\users\\dell\\desktop\\ai_recom\\.venv\\lib\\site-packages (from requests->transformers) (2.5.0)\n",
      "Requirement already satisfied: certifi>=2017.4.17 in c:\\users\\dell\\desktop\\ai_recom\\.venv\\lib\\site-packages (from requests->transformers) (2025.10.5)\n",
      "Requirement already satisfied: joblib>=1.2.0 in c:\\users\\dell\\desktop\\ai_recom\\.venv\\lib\\site-packages (from scikit-learn->sentence-transformers) (1.5.2)\n",
      "Requirement already satisfied: threadpoolctl>=3.1.0 in c:\\users\\dell\\desktop\\ai_recom\\.venv\\lib\\site-packages (from scikit-learn->sentence-transformers) (3.6.0)\n"
     ]
    }
   ],
   "source": [
    "!pip install fastapi uvicorn pandas faiss-cpu sentence-transformers transformers torch\n"
   ]
  },
  {
   "cell_type": "code",
   "execution_count": null,
   "id": "3169ac2f",
   "metadata": {},
   "outputs": [
    {
     "name": "stderr",
     "output_type": "stream",
     "text": [
      "c:\\Users\\DELL\\Desktop\\ai_recom\\.venv\\Lib\\site-packages\\tqdm\\auto.py:21: TqdmWarning: IProgress not found. Please update jupyter and ipywidgets. See https://ipywidgets.readthedocs.io/en/stable/user_install.html\n",
      "  from .autonotebook import tqdm as notebook_tqdm\n"
     ]
    }
   ],
   "source": [
    "from fastapi import FastAPI, HTTPException\n",
    "from fastapi.middleware.cors import CORSMiddleware\n",
    "from pydantic import BaseModel\n",
    "import pandas as pd\n",
    "import faiss\n",
    "import pickle\n",
    "from sentence_transformers import SentenceTransformer\n",
    "from transformers import AutoTokenizer, AutoModelForSeq2SeqLM\n",
    "import torch\n",
    "import nest_asyncio\n",
    "import uvicorn\n"
   ]
  },
  {
   "cell_type": "code",
   "execution_count": null,
   "id": "d5079ded",
   "metadata": {},
   "outputs": [],
   "source": [
    "# This allows FastAPI to run inside Jupyter/Colab notebooks\n",
    "nest_asyncio.apply()\n"
   ]
  },
  {
   "cell_type": "code",
   "execution_count": null,
   "id": "eed024f5",
   "metadata": {},
   "outputs": [],
   "source": [
    "app = FastAPI(title=\"AI Product Recommendation API\")\n",
    "\n",
    "app.add_middleware(\n",
    "    CORSMiddleware,\n",
    "    allow_origins=[\"*\"],\n",
    "    allow_credentials=True,\n",
    "    allow_methods=[\"*\"],\n",
    "    allow_headers=[\"*\"],\n",
    ")\n"
   ]
  },
  {
   "cell_type": "code",
   "execution_count": null,
   "id": "49097da1",
   "metadata": {},
   "outputs": [
    {
     "name": "stdout",
     "output_type": "stream",
     "text": [
      "c:\\Users\\DELL\\Desktop\\ai_recom\\backend\n"
     ]
    }
   ],
   "source": [
    "import os\n",
    "print(os.getcwd())\n"
   ]
  },
  {
   "cell_type": "code",
   "execution_count": null,
   "id": "45a040e1",
   "metadata": {},
   "outputs": [
    {
     "name": "stdout",
     "output_type": "stream",
     "text": [
      "Current working directory: c:\\Users\\DELL\\Desktop\\ai_recom\n"
     ]
    }
   ],
   "source": [
    "import os\n",
    "os.chdir(\"..\")  # move up one level from notebooks/ to ai_recom/\n",
    "print(\"Current working directory:\", os.getcwd())\n"
   ]
  },
  {
   "cell_type": "code",
   "execution_count": null,
   "id": "6d29c3e6",
   "metadata": {},
   "outputs": [],
   "source": [
    "df = pd.read_csv(\"data/cleaned_products.csv\")\n",
    "index = faiss.read_index(\"models/faiss_index.bin\")\n",
    "with open(\"models/meta.pkl\", \"rb\") as f:\n",
    "    meta = pickle.load(f)\n"
   ]
  },
  {
   "cell_type": "code",
   "execution_count": null,
   "id": "f2ee2c06",
   "metadata": {},
   "outputs": [],
   "source": [
    "# Load product dataset\n",
    "df = pd.read_csv(\"data/cleaned_products.csv\")\n",
    "\n",
    "# Load FAISS index\n",
    "index = faiss.read_index(\"models/faiss_index.bin\")\n",
    "\n",
    "# Load metadata\n",
    "with open(\"models/meta.pkl\", \"rb\") as f:\n",
    "    meta = pickle.load(f)\n",
    "\n",
    "# Embedding model\n",
    "embed_model = SentenceTransformer(\"all-MiniLM-L6-v2\")\n",
    "\n",
    "# Text generation model\n",
    "tok = AutoTokenizer.from_pretrained(\"google/flan-t5-base\")\n",
    "gen_model = AutoModelForSeq2SeqLM.from_pretrained(\"google/flan-t5-base\").to(\n",
    "    \"cuda\" if torch.cuda.is_available() else \"cpu\"\n",
    ")\n"
   ]
  },
  {
   "cell_type": "code",
   "execution_count": null,
   "id": "eb58b0a8",
   "metadata": {},
   "outputs": [],
   "source": [
    "class Query(BaseModel):\n",
    "    query: str\n",
    "    top_k: int = 5\n",
    "\n",
    "@app.post(\"/recommend\")\n",
    "def recommend(req: Query):\n",
    "    q_emb = embed_model.encode([req.query], convert_to_numpy=True)\n",
    "    faiss.normalize_L2(q_emb)\n",
    "    D, I = index.search(q_emb, req.top_k)\n",
    "    \n",
    "    results = []\n",
    "    for idx, score in zip(I[0], D[0]):\n",
    "        row = df.iloc[idx].to_dict()\n",
    "        row['score'] = float(score)\n",
    "        results.append(row)\n",
    "    return {\"query\": req.query, \"results\": results}\n"
   ]
  },
  {
   "cell_type": "code",
   "execution_count": null,
   "id": "7b248a41",
   "metadata": {},
   "outputs": [],
   "source": [
    "class GenReq(BaseModel):\n",
    "    uniq_id: str\n",
    "\n",
    "@app.post(\"/generate-description\")\n",
    "def gen_desc(req: GenReq):\n",
    "    item = df[df['uniq_id'].astype(str) == req.uniq_id]\n",
    "    if item.empty:\n",
    "        raise HTTPException(status_code=404, detail=\"Product not found\")\n",
    "    row = item.iloc[0]\n",
    "    \n",
    "    prompt = f\"Write a creative marketing description for a {row['categories']}. Title: {row['title']}. Details: {row['description']}\"\n",
    "    inputs = tok(prompt, return_tensors=\"pt\", truncation=True).to(gen_model.device)\n",
    "    outputs = gen_model.generate(**inputs, max_length=120, num_beams=4)\n",
    "    gen_text = tok.decode(outputs[0], skip_special_tokens=True)\n",
    "    \n",
    "    return {\"uniq_id\": req.uniq_id, \"generated\": gen_text}\n"
   ]
  },
  {
   "cell_type": "code",
   "execution_count": null,
   "id": "4ef8cdc9",
   "metadata": {},
   "outputs": [],
   "source": [
    "@app.get(\"/analytics\")\n",
    "def analytics():\n",
    "    stats = {\n",
    "        \"count\": len(df),\n",
    "        \"price_mean\": float(df['price'].mean()),\n",
    "        \"top_categories\": df['categories'].value_counts().head(10).to_dict(),\n",
    "        \"top_brands\": df['brand'].value_counts().head(10).to_dict(),\n",
    "    }\n",
    "    return stats\n"
   ]
  },
  {
   "cell_type": "code",
   "execution_count": null,
   "id": "25dcf0d0",
   "metadata": {},
   "outputs": [
    {
     "name": "stderr",
     "output_type": "stream",
     "text": [
      "INFO:     Started server process [27020]\n",
      "INFO:     Waiting for application startup.\n",
      "INFO:     Application startup complete.\n",
      "INFO:     Uvicorn running on http://0.0.0.0:8000 (Press CTRL+C to quit)\n"
     ]
    },
    {
     "name": "stdout",
     "output_type": "stream",
     "text": [
      "INFO:     127.0.0.1:51929 - \"OPTIONS /recommend HTTP/1.1\" 200 OK\n",
      "INFO:     127.0.0.1:51929 - \"POST /recommend HTTP/1.1\" 500 Internal Server Error\n"
     ]
    },
    {
     "name": "stderr",
     "output_type": "stream",
     "text": [
      "ERROR:    Exception in ASGI application\n",
      "Traceback (most recent call last):\n",
      "  File \"c:\\Users\\DELL\\Desktop\\ai_recom\\.venv\\Lib\\site-packages\\uvicorn\\protocols\\http\\h11_impl.py\", line 403, in run_asgi\n",
      "    result = await app(  # type: ignore[func-returns-value]\n",
      "             ^^^^^^^^^^^^^^^^^^^^^^^^^^^^^^^^^^^^^^^^^^^^^^\n",
      "  File \"c:\\Users\\DELL\\Desktop\\ai_recom\\.venv\\Lib\\site-packages\\uvicorn\\middleware\\proxy_headers.py\", line 60, in __call__\n",
      "    return await self.app(scope, receive, send)\n",
      "           ^^^^^^^^^^^^^^^^^^^^^^^^^^^^^^^^^^^^\n",
      "  File \"c:\\Users\\DELL\\Desktop\\ai_recom\\.venv\\Lib\\site-packages\\fastapi\\applications.py\", line 1133, in __call__\n",
      "    await super().__call__(scope, receive, send)\n",
      "  File \"c:\\Users\\DELL\\Desktop\\ai_recom\\.venv\\Lib\\site-packages\\starlette\\applications.py\", line 113, in __call__\n",
      "    await self.middleware_stack(scope, receive, send)\n",
      "  File \"c:\\Users\\DELL\\Desktop\\ai_recom\\.venv\\Lib\\site-packages\\starlette\\middleware\\errors.py\", line 186, in __call__\n",
      "    raise exc\n",
      "  File \"c:\\Users\\DELL\\Desktop\\ai_recom\\.venv\\Lib\\site-packages\\starlette\\middleware\\errors.py\", line 164, in __call__\n",
      "    await self.app(scope, receive, _send)\n",
      "  File \"c:\\Users\\DELL\\Desktop\\ai_recom\\.venv\\Lib\\site-packages\\starlette\\middleware\\cors.py\", line 93, in __call__\n",
      "    await self.simple_response(scope, receive, send, request_headers=headers)\n",
      "  File \"c:\\Users\\DELL\\Desktop\\ai_recom\\.venv\\Lib\\site-packages\\starlette\\middleware\\cors.py\", line 144, in simple_response\n",
      "    await self.app(scope, receive, send)\n",
      "  File \"c:\\Users\\DELL\\Desktop\\ai_recom\\.venv\\Lib\\site-packages\\starlette\\middleware\\exceptions.py\", line 63, in __call__\n",
      "    await wrap_app_handling_exceptions(self.app, conn)(scope, receive, send)\n",
      "  File \"c:\\Users\\DELL\\Desktop\\ai_recom\\.venv\\Lib\\site-packages\\starlette\\_exception_handler.py\", line 53, in wrapped_app\n",
      "    raise exc\n",
      "  File \"c:\\Users\\DELL\\Desktop\\ai_recom\\.venv\\Lib\\site-packages\\starlette\\_exception_handler.py\", line 42, in wrapped_app\n",
      "    await app(scope, receive, sender)\n",
      "  File \"c:\\Users\\DELL\\Desktop\\ai_recom\\.venv\\Lib\\site-packages\\fastapi\\middleware\\asyncexitstack.py\", line 18, in __call__\n",
      "    await self.app(scope, receive, send)\n",
      "  File \"c:\\Users\\DELL\\Desktop\\ai_recom\\.venv\\Lib\\site-packages\\starlette\\routing.py\", line 716, in __call__\n",
      "    await self.middleware_stack(scope, receive, send)\n",
      "  File \"c:\\Users\\DELL\\Desktop\\ai_recom\\.venv\\Lib\\site-packages\\starlette\\routing.py\", line 736, in app\n",
      "    await route.handle(scope, receive, send)\n",
      "  File \"c:\\Users\\DELL\\Desktop\\ai_recom\\.venv\\Lib\\site-packages\\starlette\\routing.py\", line 290, in handle\n",
      "    await self.app(scope, receive, send)\n",
      "  File \"c:\\Users\\DELL\\Desktop\\ai_recom\\.venv\\Lib\\site-packages\\fastapi\\routing.py\", line 123, in app\n",
      "    await wrap_app_handling_exceptions(app, request)(scope, receive, send)\n",
      "  File \"c:\\Users\\DELL\\Desktop\\ai_recom\\.venv\\Lib\\site-packages\\starlette\\_exception_handler.py\", line 53, in wrapped_app\n",
      "    raise exc\n",
      "  File \"c:\\Users\\DELL\\Desktop\\ai_recom\\.venv\\Lib\\site-packages\\starlette\\_exception_handler.py\", line 42, in wrapped_app\n",
      "    await app(scope, receive, sender)\n",
      "  File \"c:\\Users\\DELL\\Desktop\\ai_recom\\.venv\\Lib\\site-packages\\fastapi\\routing.py\", line 109, in app\n",
      "    response = await f(request)\n",
      "               ^^^^^^^^^^^^^^^^\n",
      "  File \"c:\\Users\\DELL\\Desktop\\ai_recom\\.venv\\Lib\\site-packages\\fastapi\\routing.py\", line 422, in app\n",
      "    response = actual_response_class(content, **response_args)\n",
      "               ^^^^^^^^^^^^^^^^^^^^^^^^^^^^^^^^^^^^^^^^^^^^^^^\n",
      "  File \"c:\\Users\\DELL\\Desktop\\ai_recom\\.venv\\Lib\\site-packages\\starlette\\responses.py\", line 190, in __init__\n",
      "    super().__init__(content, status_code, headers, media_type, background)\n",
      "  File \"c:\\Users\\DELL\\Desktop\\ai_recom\\.venv\\Lib\\site-packages\\starlette\\responses.py\", line 47, in __init__\n",
      "    self.body = self.render(content)\n",
      "                ^^^^^^^^^^^^^^^^^^^^\n",
      "  File \"c:\\Users\\DELL\\Desktop\\ai_recom\\.venv\\Lib\\site-packages\\starlette\\responses.py\", line 193, in render\n",
      "    return json.dumps(\n",
      "           ^^^^^^^^^^^\n",
      "  File \"C:\\Program Files\\WindowsApps\\PythonSoftwareFoundation.Python.3.11_3.11.2544.0_x64__qbz5n2kfra8p0\\Lib\\json\\__init__.py\", line 238, in dumps\n",
      "    **kw).encode(obj)\n",
      "          ^^^^^^^^^^^\n",
      "  File \"C:\\Program Files\\WindowsApps\\PythonSoftwareFoundation.Python.3.11_3.11.2544.0_x64__qbz5n2kfra8p0\\Lib\\json\\encoder.py\", line 200, in encode\n",
      "    chunks = self.iterencode(o, _one_shot=True)\n",
      "             ^^^^^^^^^^^^^^^^^^^^^^^^^^^^^^^^^^\n",
      "  File \"C:\\Program Files\\WindowsApps\\PythonSoftwareFoundation.Python.3.11_3.11.2544.0_x64__qbz5n2kfra8p0\\Lib\\json\\encoder.py\", line 258, in iterencode\n",
      "    return _iterencode(o, 0)\n",
      "           ^^^^^^^^^^^^^^^^^\n",
      "ValueError: Out of range float values are not JSON compliant\n"
     ]
    },
    {
     "name": "stdout",
     "output_type": "stream",
     "text": [
      "INFO:     127.0.0.1:59399 - \"OPTIONS /recommend HTTP/1.1\" 200 OK\n",
      "INFO:     127.0.0.1:55478 - \"OPTIONS /recommend HTTP/1.1\" 200 OK\n",
      "INFO:     127.0.0.1:55478 - \"POST /recommend HTTP/1.1\" 500 Internal Server Error\n"
     ]
    },
    {
     "name": "stderr",
     "output_type": "stream",
     "text": [
      "ERROR:    Exception in ASGI application\n",
      "Traceback (most recent call last):\n",
      "  File \"c:\\Users\\DELL\\Desktop\\ai_recom\\.venv\\Lib\\site-packages\\uvicorn\\protocols\\http\\h11_impl.py\", line 403, in run_asgi\n",
      "    result = await app(  # type: ignore[func-returns-value]\n",
      "             ^^^^^^^^^^^^^^^^^^^^^^^^^^^^^^^^^^^^^^^^^^^^^^\n",
      "  File \"c:\\Users\\DELL\\Desktop\\ai_recom\\.venv\\Lib\\site-packages\\uvicorn\\middleware\\proxy_headers.py\", line 60, in __call__\n",
      "    return await self.app(scope, receive, send)\n",
      "           ^^^^^^^^^^^^^^^^^^^^^^^^^^^^^^^^^^^^\n",
      "  File \"c:\\Users\\DELL\\Desktop\\ai_recom\\.venv\\Lib\\site-packages\\fastapi\\applications.py\", line 1133, in __call__\n",
      "    await super().__call__(scope, receive, send)\n",
      "  File \"c:\\Users\\DELL\\Desktop\\ai_recom\\.venv\\Lib\\site-packages\\starlette\\applications.py\", line 113, in __call__\n",
      "    await self.middleware_stack(scope, receive, send)\n",
      "  File \"c:\\Users\\DELL\\Desktop\\ai_recom\\.venv\\Lib\\site-packages\\starlette\\middleware\\errors.py\", line 186, in __call__\n",
      "    raise exc\n",
      "  File \"c:\\Users\\DELL\\Desktop\\ai_recom\\.venv\\Lib\\site-packages\\starlette\\middleware\\errors.py\", line 164, in __call__\n",
      "    await self.app(scope, receive, _send)\n",
      "  File \"c:\\Users\\DELL\\Desktop\\ai_recom\\.venv\\Lib\\site-packages\\starlette\\middleware\\cors.py\", line 93, in __call__\n",
      "    await self.simple_response(scope, receive, send, request_headers=headers)\n",
      "  File \"c:\\Users\\DELL\\Desktop\\ai_recom\\.venv\\Lib\\site-packages\\starlette\\middleware\\cors.py\", line 144, in simple_response\n",
      "    await self.app(scope, receive, send)\n",
      "  File \"c:\\Users\\DELL\\Desktop\\ai_recom\\.venv\\Lib\\site-packages\\starlette\\middleware\\exceptions.py\", line 63, in __call__\n",
      "    await wrap_app_handling_exceptions(self.app, conn)(scope, receive, send)\n",
      "  File \"c:\\Users\\DELL\\Desktop\\ai_recom\\.venv\\Lib\\site-packages\\starlette\\_exception_handler.py\", line 53, in wrapped_app\n",
      "    raise exc\n",
      "  File \"c:\\Users\\DELL\\Desktop\\ai_recom\\.venv\\Lib\\site-packages\\starlette\\_exception_handler.py\", line 42, in wrapped_app\n",
      "    await app(scope, receive, sender)\n",
      "  File \"c:\\Users\\DELL\\Desktop\\ai_recom\\.venv\\Lib\\site-packages\\fastapi\\middleware\\asyncexitstack.py\", line 18, in __call__\n",
      "    await self.app(scope, receive, send)\n",
      "  File \"c:\\Users\\DELL\\Desktop\\ai_recom\\.venv\\Lib\\site-packages\\starlette\\routing.py\", line 716, in __call__\n",
      "    await self.middleware_stack(scope, receive, send)\n",
      "  File \"c:\\Users\\DELL\\Desktop\\ai_recom\\.venv\\Lib\\site-packages\\starlette\\routing.py\", line 736, in app\n",
      "    await route.handle(scope, receive, send)\n",
      "  File \"c:\\Users\\DELL\\Desktop\\ai_recom\\.venv\\Lib\\site-packages\\starlette\\routing.py\", line 290, in handle\n",
      "    await self.app(scope, receive, send)\n",
      "  File \"c:\\Users\\DELL\\Desktop\\ai_recom\\.venv\\Lib\\site-packages\\fastapi\\routing.py\", line 123, in app\n",
      "    await wrap_app_handling_exceptions(app, request)(scope, receive, send)\n",
      "  File \"c:\\Users\\DELL\\Desktop\\ai_recom\\.venv\\Lib\\site-packages\\starlette\\_exception_handler.py\", line 53, in wrapped_app\n",
      "    raise exc\n",
      "  File \"c:\\Users\\DELL\\Desktop\\ai_recom\\.venv\\Lib\\site-packages\\starlette\\_exception_handler.py\", line 42, in wrapped_app\n",
      "    await app(scope, receive, sender)\n",
      "  File \"c:\\Users\\DELL\\Desktop\\ai_recom\\.venv\\Lib\\site-packages\\fastapi\\routing.py\", line 109, in app\n",
      "    response = await f(request)\n",
      "               ^^^^^^^^^^^^^^^^\n",
      "  File \"c:\\Users\\DELL\\Desktop\\ai_recom\\.venv\\Lib\\site-packages\\fastapi\\routing.py\", line 422, in app\n",
      "    response = actual_response_class(content, **response_args)\n",
      "               ^^^^^^^^^^^^^^^^^^^^^^^^^^^^^^^^^^^^^^^^^^^^^^^\n",
      "  File \"c:\\Users\\DELL\\Desktop\\ai_recom\\.venv\\Lib\\site-packages\\starlette\\responses.py\", line 190, in __init__\n",
      "    super().__init__(content, status_code, headers, media_type, background)\n",
      "  File \"c:\\Users\\DELL\\Desktop\\ai_recom\\.venv\\Lib\\site-packages\\starlette\\responses.py\", line 47, in __init__\n",
      "    self.body = self.render(content)\n",
      "                ^^^^^^^^^^^^^^^^^^^^\n",
      "  File \"c:\\Users\\DELL\\Desktop\\ai_recom\\.venv\\Lib\\site-packages\\starlette\\responses.py\", line 193, in render\n",
      "    return json.dumps(\n",
      "           ^^^^^^^^^^^\n",
      "  File \"C:\\Program Files\\WindowsApps\\PythonSoftwareFoundation.Python.3.11_3.11.2544.0_x64__qbz5n2kfra8p0\\Lib\\json\\__init__.py\", line 238, in dumps\n",
      "    **kw).encode(obj)\n",
      "          ^^^^^^^^^^^\n",
      "  File \"C:\\Program Files\\WindowsApps\\PythonSoftwareFoundation.Python.3.11_3.11.2544.0_x64__qbz5n2kfra8p0\\Lib\\json\\encoder.py\", line 200, in encode\n",
      "    chunks = self.iterencode(o, _one_shot=True)\n",
      "             ^^^^^^^^^^^^^^^^^^^^^^^^^^^^^^^^^^\n",
      "  File \"C:\\Program Files\\WindowsApps\\PythonSoftwareFoundation.Python.3.11_3.11.2544.0_x64__qbz5n2kfra8p0\\Lib\\json\\encoder.py\", line 258, in iterencode\n",
      "    return _iterencode(o, 0)\n",
      "           ^^^^^^^^^^^^^^^^^\n",
      "ValueError: Out of range float values are not JSON compliant\n"
     ]
    },
    {
     "name": "stdout",
     "output_type": "stream",
     "text": [
      "INFO:     127.0.0.1:59399 - \"POST /recommend HTTP/1.1\" 500 Internal Server Error\n"
     ]
    },
    {
     "name": "stderr",
     "output_type": "stream",
     "text": [
      "ERROR:    Exception in ASGI application\n",
      "Traceback (most recent call last):\n",
      "  File \"c:\\Users\\DELL\\Desktop\\ai_recom\\.venv\\Lib\\site-packages\\uvicorn\\protocols\\http\\h11_impl.py\", line 403, in run_asgi\n",
      "    result = await app(  # type: ignore[func-returns-value]\n",
      "             ^^^^^^^^^^^^^^^^^^^^^^^^^^^^^^^^^^^^^^^^^^^^^^\n",
      "  File \"c:\\Users\\DELL\\Desktop\\ai_recom\\.venv\\Lib\\site-packages\\uvicorn\\middleware\\proxy_headers.py\", line 60, in __call__\n",
      "    return await self.app(scope, receive, send)\n",
      "           ^^^^^^^^^^^^^^^^^^^^^^^^^^^^^^^^^^^^\n",
      "  File \"c:\\Users\\DELL\\Desktop\\ai_recom\\.venv\\Lib\\site-packages\\fastapi\\applications.py\", line 1133, in __call__\n",
      "    await super().__call__(scope, receive, send)\n",
      "  File \"c:\\Users\\DELL\\Desktop\\ai_recom\\.venv\\Lib\\site-packages\\starlette\\applications.py\", line 113, in __call__\n",
      "    await self.middleware_stack(scope, receive, send)\n",
      "  File \"c:\\Users\\DELL\\Desktop\\ai_recom\\.venv\\Lib\\site-packages\\starlette\\middleware\\errors.py\", line 186, in __call__\n",
      "    raise exc\n",
      "  File \"c:\\Users\\DELL\\Desktop\\ai_recom\\.venv\\Lib\\site-packages\\starlette\\middleware\\errors.py\", line 164, in __call__\n",
      "    await self.app(scope, receive, _send)\n",
      "  File \"c:\\Users\\DELL\\Desktop\\ai_recom\\.venv\\Lib\\site-packages\\starlette\\middleware\\cors.py\", line 93, in __call__\n",
      "    await self.simple_response(scope, receive, send, request_headers=headers)\n",
      "  File \"c:\\Users\\DELL\\Desktop\\ai_recom\\.venv\\Lib\\site-packages\\starlette\\middleware\\cors.py\", line 144, in simple_response\n",
      "    await self.app(scope, receive, send)\n",
      "  File \"c:\\Users\\DELL\\Desktop\\ai_recom\\.venv\\Lib\\site-packages\\starlette\\middleware\\exceptions.py\", line 63, in __call__\n",
      "    await wrap_app_handling_exceptions(self.app, conn)(scope, receive, send)\n",
      "  File \"c:\\Users\\DELL\\Desktop\\ai_recom\\.venv\\Lib\\site-packages\\starlette\\_exception_handler.py\", line 53, in wrapped_app\n",
      "    raise exc\n",
      "  File \"c:\\Users\\DELL\\Desktop\\ai_recom\\.venv\\Lib\\site-packages\\starlette\\_exception_handler.py\", line 42, in wrapped_app\n",
      "    await app(scope, receive, sender)\n",
      "  File \"c:\\Users\\DELL\\Desktop\\ai_recom\\.venv\\Lib\\site-packages\\fastapi\\middleware\\asyncexitstack.py\", line 18, in __call__\n",
      "    await self.app(scope, receive, send)\n",
      "  File \"c:\\Users\\DELL\\Desktop\\ai_recom\\.venv\\Lib\\site-packages\\starlette\\routing.py\", line 716, in __call__\n",
      "    await self.middleware_stack(scope, receive, send)\n",
      "  File \"c:\\Users\\DELL\\Desktop\\ai_recom\\.venv\\Lib\\site-packages\\starlette\\routing.py\", line 736, in app\n",
      "    await route.handle(scope, receive, send)\n",
      "  File \"c:\\Users\\DELL\\Desktop\\ai_recom\\.venv\\Lib\\site-packages\\starlette\\routing.py\", line 290, in handle\n",
      "    await self.app(scope, receive, send)\n",
      "  File \"c:\\Users\\DELL\\Desktop\\ai_recom\\.venv\\Lib\\site-packages\\fastapi\\routing.py\", line 123, in app\n",
      "    await wrap_app_handling_exceptions(app, request)(scope, receive, send)\n",
      "  File \"c:\\Users\\DELL\\Desktop\\ai_recom\\.venv\\Lib\\site-packages\\starlette\\_exception_handler.py\", line 53, in wrapped_app\n",
      "    raise exc\n",
      "  File \"c:\\Users\\DELL\\Desktop\\ai_recom\\.venv\\Lib\\site-packages\\starlette\\_exception_handler.py\", line 42, in wrapped_app\n",
      "    await app(scope, receive, sender)\n",
      "  File \"c:\\Users\\DELL\\Desktop\\ai_recom\\.venv\\Lib\\site-packages\\fastapi\\routing.py\", line 109, in app\n",
      "    response = await f(request)\n",
      "               ^^^^^^^^^^^^^^^^\n",
      "  File \"c:\\Users\\DELL\\Desktop\\ai_recom\\.venv\\Lib\\site-packages\\fastapi\\routing.py\", line 422, in app\n",
      "    response = actual_response_class(content, **response_args)\n",
      "               ^^^^^^^^^^^^^^^^^^^^^^^^^^^^^^^^^^^^^^^^^^^^^^^\n",
      "  File \"c:\\Users\\DELL\\Desktop\\ai_recom\\.venv\\Lib\\site-packages\\starlette\\responses.py\", line 190, in __init__\n",
      "    super().__init__(content, status_code, headers, media_type, background)\n",
      "  File \"c:\\Users\\DELL\\Desktop\\ai_recom\\.venv\\Lib\\site-packages\\starlette\\responses.py\", line 47, in __init__\n",
      "    self.body = self.render(content)\n",
      "                ^^^^^^^^^^^^^^^^^^^^\n",
      "  File \"c:\\Users\\DELL\\Desktop\\ai_recom\\.venv\\Lib\\site-packages\\starlette\\responses.py\", line 193, in render\n",
      "    return json.dumps(\n",
      "           ^^^^^^^^^^^\n",
      "  File \"C:\\Program Files\\WindowsApps\\PythonSoftwareFoundation.Python.3.11_3.11.2544.0_x64__qbz5n2kfra8p0\\Lib\\json\\__init__.py\", line 238, in dumps\n",
      "    **kw).encode(obj)\n",
      "          ^^^^^^^^^^^\n",
      "  File \"C:\\Program Files\\WindowsApps\\PythonSoftwareFoundation.Python.3.11_3.11.2544.0_x64__qbz5n2kfra8p0\\Lib\\json\\encoder.py\", line 200, in encode\n",
      "    chunks = self.iterencode(o, _one_shot=True)\n",
      "             ^^^^^^^^^^^^^^^^^^^^^^^^^^^^^^^^^^\n",
      "  File \"C:\\Program Files\\WindowsApps\\PythonSoftwareFoundation.Python.3.11_3.11.2544.0_x64__qbz5n2kfra8p0\\Lib\\json\\encoder.py\", line 258, in iterencode\n",
      "    return _iterencode(o, 0)\n",
      "           ^^^^^^^^^^^^^^^^^\n",
      "ValueError: Out of range float values are not JSON compliant\n"
     ]
    },
    {
     "name": "stdout",
     "output_type": "stream",
     "text": [
      "INFO:     127.0.0.1:52226 - \"GET /docs HTTP/1.1\" 200 OK\n",
      "INFO:     127.0.0.1:57434 - \"GET /analytics HTTP/1.1\" 200 OK\n",
      "INFO:     127.0.0.1:58626 - \"GET /analytics HTTP/1.1\" 200 OK\n",
      "INFO:     127.0.0.1:58626 - \"GET /analytics HTTP/1.1\" 200 OK\n",
      "INFO:     127.0.0.1:58626 - \"GET /analytics HTTP/1.1\" 200 OK\n",
      "INFO:     127.0.0.1:63414 - \"GET /analytics HTTP/1.1\" 200 OK\n",
      "INFO:     127.0.0.1:63414 - \"GET /analytics HTTP/1.1\" 200 OK\n"
     ]
    }
   ],
   "source": [
    "import nest_asyncio\n",
    "import uvicorn\n",
    "\n",
    "nest_asyncio.apply()\n",
    "\n",
    "\n",
    "config = uvicorn.Config(app, host=\"0.0.0.0\", port=8000, log_level=\"info\")\n",
    "server = uvicorn.Server(config)\n",
    "\n",
    "await server.serve()\n"
   ]
  }
 ],
 "metadata": {
  "kernelspec": {
   "display_name": ".venv",
   "language": "python",
   "name": "python3"
  },
  "language_info": {
   "codemirror_mode": {
    "name": "ipython",
    "version": 3
   },
   "file_extension": ".py",
   "mimetype": "text/x-python",
   "name": "python",
   "nbconvert_exporter": "python",
   "pygments_lexer": "ipython3",
   "version": "3.11.9"
  }
 },
 "nbformat": 4,
 "nbformat_minor": 5
}
